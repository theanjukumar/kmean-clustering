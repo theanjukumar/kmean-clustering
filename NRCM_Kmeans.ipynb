{
  "nbformat": 4,
  "nbformat_minor": 0,
  "metadata": {
    "colab": {
      "provenance": []
    },
    "kernelspec": {
      "name": "python3",
      "display_name": "Python 3"
    },
    "language_info": {
      "name": "python"
    }
  },
  "cells": [
    {
      "cell_type": "code",
      "execution_count": null,
      "metadata": {
        "id": "8bzzUqCBb_e6"
      },
      "outputs": [],
      "source": [
        "#import the numpy, matlot, pandas libery's\n",
        "\n"
      ]
    },
    {
      "cell_type": "code",
      "source": [
        "#Read the dataset take variable name called \"dataset\" only.\n",
        "\n",
        "# without printing this data add in separet variable as input variable Caqpital X only. loc index by select the all row ,\n",
        "#and give the required colum index like[3,4].for this particular dataset.\n"
      ],
      "metadata": {
        "id": "NNP0rPaDcClS"
      },
      "execution_count": null,
      "outputs": []
    },
    {
      "cell_type": "code",
      "source": [
        "## <THE ELBOW METHOD>\n",
        "#from sklearn used \"sklearn.cluster\" attribute and import KMeans\n",
        "#Take a distance from from centroid to cluster point with WrapsColumnExpression.\n",
        "# Assume you have 10 cluster and iterate the for up to range 10 with iterater kmeans++.\n",
        "# Fit the model if value comes too samlla in range.\n",
        "#For clustering in wcss ,inertia is adding / appending is required.(kmeans.inertia_)#defalut usecase.\n",
        "#Plot the poarticular graph along with the wcss and your range which you taken as input variable.\n",
        "#Add title \"The Elbow Method\".\n",
        "#Lable x variable as \"No of Customers\".\n",
        "#Lable y variable as \"WCSS\".\n",
        "#Plot the graph using plt.show().\n"
      ],
      "metadata": {
        "id": "9w5Briy2cWgw"
      },
      "execution_count": 1,
      "outputs": []
    },
    {
      "cell_type": "code",
      "source": [
        "# Take any no of cluster and run you take 5.\n",
        "plt.scatter(X[y_kmeans == 0, 0], X[y_kmeans == 0, 1], s = 100, c = 'red', label = 'Cluster 1')\n",
        "\n",
        "#Write Code for rest.SS\n",
        "\n",
        "plt.scatter(kmeans.cluster_centers_[:, 0], kmeans.cluster_centers_[:, 1], s = 300, c = 'yellow', label = 'Centroids')\n",
        "plt.title('Clusters of customers')\n",
        "plt.xlabel('Annual Income (k$)')\n",
        "plt.ylabel('Spending Score (1-100)')\n",
        "plt.legend()\n",
        "plt.show()"
      ],
      "metadata": {
        "id": "8U29FfcFeHKY"
      },
      "execution_count": null,
      "outputs": []
    }
  ]
}